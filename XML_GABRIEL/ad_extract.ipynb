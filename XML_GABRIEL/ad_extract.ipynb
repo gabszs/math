{
 "cells": [
  {
   "cell_type": "code",
   "execution_count": null,
   "metadata": {
    "collapsed": true,
    "pycharm": {
     "is_executing": true
    }
   },
   "outputs": [],
   "source": [
    "from xml.dom import minidom\n",
    "k = 0\n",
    "p = s = c = n = a = 0\n",
    "\n",
    "\n",
    "with open(\"XML-IMO.xml\", 'r', encoding='utf-8') as f:\n",
    "    xml = minidom.parse(f)\n",
    "    Listing = xml.getElementsByTagName(\"Listing\")\n",
    "    print(Listing[0])"
   ]
  },
  {
   "cell_type": "code",
   "execution_count": null,
   "outputs": [],
   "source": [
    "    def ignore_NoneType(argument):\n",
    "        try:\n",
    "            ignore_NoneType(local.getElementsByTagName('PostalCode'))\n",
    "        except AttributeError:\n",
    "            return (ignore_NoneType(local.getElementsByTagName('PostalCode')))\n",
    "        else:\n",
    "            return f'2'\n",
    "\n",
    "\n",
    "    for count, tag in enumerate(Listing):\n",
    "            for count_inside, local in enumerate(tag.getElementsByTagName(\"Location\")):\n",
    "                if not count_inside:\n",
    "                    # print(local.getElementsByTagName('Country')[0].firstChild.data, k)\n",
    "                    # print(local.getElementsByTagName('State')[0].firstChild.data, k)\n",
    "                    # print(local.getElementsByTagName('City')[0].firstChild.data, k)\n",
    "                    # print(local.getElementsByTagName('Neighborhood')[0].firstChild.data, k)\n",
    "                    print(ignore_NoneType(local.getElementsByTagName('PostalCode')[0].firstChild.data), k)\n",
    "                    # print(local.getElementsByTagName('Address')[0].firstChild.data, k)\n",
    "                k += 1\n"
   ],
   "metadata": {
    "collapsed": false,
    "pycharm": {
     "is_executing": true
    }
   }
  },
  {
   "cell_type": "code",
   "execution_count": null,
   "outputs": [],
   "source": [],
   "metadata": {
    "collapsed": false,
    "pycharm": {
     "is_executing": true
    }
   }
  }
 ],
 "metadata": {
  "kernelspec": {
   "display_name": "Python 3",
   "language": "python",
   "name": "python3"
  },
  "language_info": {
   "codemirror_mode": {
    "name": "ipython",
    "version": 2
   },
   "file_extension": ".py",
   "mimetype": "text/x-python",
   "name": "python",
   "nbconvert_exporter": "python",
   "pygments_lexer": "ipython2",
   "version": "2.7.6"
  }
 },
 "nbformat": 4,
 "nbformat_minor": 0
}
