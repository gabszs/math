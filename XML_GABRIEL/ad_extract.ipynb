{
 "cells": [
  {
   "cell_type": "markdown",
   "source": [
    "# Imports and Variables"
   ],
   "metadata": {
    "collapsed": false
   }
  },
  {
   "cell_type": "code",
   "execution_count": 487,
   "outputs": [],
   "source": [
    "from xml.dom import minidom\n",
    "import io\n",
    "from PIL import Image  # https://pillow.readthedocs.io/en/4.3.x/\n",
    "import requests  # http://docs.python-requests.org/en/master/\n",
    "import re\n",
    "\n",
    "s = 'Residential / Home'\n",
    "s.split(\" / \")\n",
    "k = 0\n",
    "pais = estado = cidade = bairro = endereco = cep = ref = titulo = aluguelVenda = 0\n",
    "tipo_prop = descricao = area = quartos = banheiros = suites = garagem = 0\n",
    "location_list = detail_list = list()\n",
    "p = s = c = n = a = 0"
   ],
   "metadata": {
    "collapsed": false
   }
  },
  {
   "cell_type": "markdown",
   "source": [
    "# Functions"
   ],
   "metadata": {
    "collapsed": false
   }
  },
  {
   "cell_type": "code",
   "execution_count": 488,
   "outputs": [],
   "source": [
    "# example image url: https://m.media-amazon.com/images/S/aplus-media/vc/6a9569ab-cb8e-46d9-8aea-a7022e58c74a.jpg\n",
    "def download_image(url, image_file_path):\n",
    "    r = requests.get(url, timeout=4.0)\n",
    "    if r.status_code != requests.codes.ok:\n",
    "        assert False, 'Status code error: {}.'.format(r.status_code)\n",
    "\n",
    "    with Image.open(io.BytesIO(r.content)) as im:\n",
    "        im.save(image_file_path)\n",
    "    print(f\"Image downloaded from url: {format} and saved to: {image_file_path}\")\n",
    "\n",
    "\n",
    "def en_to_pt_resCom(word):\n",
    "    word = word.split(\" / \")\n",
    "    # Translate the First Word\n",
    "    if word[0] == \"Residential\":\n",
    "        word[0] = 'Residencial'\n",
    "    else:\n",
    "        word[0] = 'Comercial'\n",
    "\n",
    "    # Translate the second Word\n",
    "    if word[1] == 'Home':\n",
    "        word[1] = 'Casa'\n",
    "\n",
    "    elif word[1] == 'Land Lot':\n",
    "        word[1] = 'Terreno'\n",
    "\n",
    "    elif word[1] == 'Farm Ranch':\n",
    "        word[1] = 'Chácaras'\n",
    "\n",
    "    elif word[1] == 'Apartment':\n",
    "        word[1] = 'Apartamento'\n",
    "\n",
    "    else:\n",
    "        word[1] = word[1]\n",
    "\n",
    "    return \" / \".join(word)\n",
    "\n",
    "\n",
    "def en_to_pt_rentSale(word):\n",
    "    if word == 'For Rent':\n",
    "        word = 'Aluguel'\n",
    "    else:\n",
    "        word = 'Venda'\n",
    "    return word"
   ],
   "metadata": {
    "collapsed": false
   }
  },
  {
   "cell_type": "markdown",
   "source": [
    "# Opening the XmL documment"
   ],
   "metadata": {
    "collapsed": false
   }
  },
  {
   "cell_type": "code",
   "execution_count": 489,
   "outputs": [],
   "source": [
    "with open(\"XML-IMO.xml\", 'r', encoding='utf-8') as f:\n",
    "    xml = minidom.parse(f)\n",
    "    Listing = xml.getElementsByTagName(\"Listing\")"
   ],
   "metadata": {
    "collapsed": false
   }
  },
  {
   "cell_type": "markdown",
   "source": [
    "# First Loop To Find the Location INFO"
   ],
   "metadata": {
    "collapsed": false
   }
  },
  {
   "cell_type": "code",
   "execution_count": 490,
   "outputs": [],
   "source": [
    "    for count, tag in enumerate(Listing):\n",
    "        for count_inside, local in enumerate(tag.getElementsByTagName(\"Location\")):\n",
    "            if not count_inside:\n",
    "                ref = (f\"referencia: {tag.getElementsByTagName('ListingID')[0].firstChild.data}\")\n",
    "                titulo = (f\"Titulo/descricao: {tag.getElementsByTagName('Title')[0].firstChild.data}\")\n",
    "                aluguelVenda = (f\"Venda/Aluguel: {en_to_pt_rentSale(tag.getElementsByTagName('TransactionType')[0].firstChild.data)}\")\n",
    "                pais = (f\"Pais: {local.getElementsByTagName('Country')[0].firstChild.data}\")\n",
    "                endereco = (f\"Endereco/Rua: {local.getElementsByTagName('Address')[0].firstChild.data}\")\n",
    "                estado = (f\"Estado: {local.getElementsByTagName('State')[0].firstChild.data}\")\n",
    "                cidade = (f\"Cidade: {local.getElementsByTagName('City')[0].firstChild.data}\")\n",
    "                bairro = (f\"Bairro: {local.getElementsByTagName('Neighborhood')[0].firstChild.data}\")\n",
    "                try:\n",
    "                    cep = (f\"CEP: {local.getElementsByTagName('PostalCode')[0].firstChild.data}\")\n",
    "                except AttributeError:\n",
    "                    cep = (f\"CEP: --------\")\n",
    "                location_list.append([ref, titulo, cep, endereco, bairro, cidade, estado, pais, aluguelVenda])\n"
   ],
   "metadata": {
    "collapsed": false
   }
  },
  {
   "cell_type": "markdown",
   "source": [
    "# Second loop to find the Listing DETAILS"
   ],
   "metadata": {
    "collapsed": false
   }
  },
  {
   "cell_type": "code",
   "execution_count": 491,
   "outputs": [],
   "source": [
    "    for count, tag in enumerate(Listing):\n",
    "        for count_detail, detail in enumerate(tag.getElementsByTagName(\"Details\")): #ok\n",
    "            tipo_prop = (f\"Finalidade/Imovel: {en_to_pt_resCom(detail.getElementsByTagName('PropertyType')[0].firstChild.data)}\")\n",
    "            descricao = (f\"Descricao: {re.sub(' +', ' ', detail.getElementsByTagName('Description')[0].firstChild.wholeText).replace('n', '')}\") # alert\n",
    "            area = (f\"Area: {detail.getElementsByTagName('ConstructedArea')[0].firstChild.data}\") # alert\n",
    "            quartos = (f\"Quartos: {detail.getElementsByTagName('Bedrooms')[0].firstChild.data}\") # alert\n",
    "            banheiros = (f\"Banheiros: {detail.getElementsByTagName('Bathrooms')[0].firstChild.data}\") # alert\n",
    "            suites = (f\"Suites: {detail.getElementsByTagName('Suites')[0].firstChild.data}\") # alert\n",
    "            try:\n",
    "                garagem = (f\"Vagas na Garegem: {detail.getElementsByTagName('Garage')[0].firstChild.data}\")\n",
    "            except (AttributeError, IndexError):\n",
    "                garagem = (\"Não tem garagem\")\n",
    "\n",
    "            detail_list.append([descricao, tipo_prop, quartos, suites, banheiros, garagem, area])\n",
    "\n",
    "            # print((detail.getElementsByTagName('ListPrice')[0].firstChild.data))\n",
    "\n",
    "            # if len(detail.getElementsByTagName('rentalPrice')) == 1:\n",
    "            #     print(((detail.getElementsByTagName('rentalPrice'))[0].firstChild.data), 'Aluga')\n",
    "            # else:\n",
    "            #     if len(detail.getElementsByTagName('ListPrice')) == 1:\n",
    "            #         print(((detail.getElementsByTagName('ListPrice'))[0].firstChild.data), 'venda',count)\n",
    "\n",
    "            # garage, RentalPrice/ListPrice\n",
    "\n",
    "            #tipo_prop = descricao = area = quartos = banheiros = suites = garagem = 0"
   ],
   "metadata": {
    "collapsed": false
   }
  },
  {
   "cell_type": "code",
   "execution_count": 494,
   "outputs": [],
   "source": [],
   "metadata": {
    "collapsed": false
   }
  }
 ],
 "metadata": {
  "kernelspec": {
   "display_name": "Python 3",
   "language": "python",
   "name": "python3"
  },
  "language_info": {
   "codemirror_mode": {
    "name": "ipython",
    "version": 2
   },
   "file_extension": ".py",
   "mimetype": "text/x-python",
   "name": "python",
   "nbconvert_exporter": "python",
   "pygments_lexer": "ipython2",
   "version": "2.7.6"
  }
 },
 "nbformat": 4,
 "nbformat_minor": 0
}
